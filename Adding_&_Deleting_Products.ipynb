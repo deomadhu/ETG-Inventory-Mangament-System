{
 "cells": [
  {
   "cell_type": "markdown",
   "metadata": {},
   "source": [
    "# Read Data from JSON"
   ]
  },
  {
   "cell_type": "code",
   "execution_count": 1,
   "metadata": {},
   "outputs": [],
   "source": [
    "import json\n",
    "\n",
    "fd = open(\"record.json\",'r')\n",
    "r = fd.read()\n",
    "fd.close()\n",
    "\n",
    "record = json.loads(r)"
   ]
  },
  {
   "cell_type": "code",
   "execution_count": 2,
   "metadata": {},
   "outputs": [
    {
     "data": {
      "text/plain": [
       "{'1100': {'name': 'maggi',\n",
       "  'price': 10,\n",
       "  'quantity': 1000,\n",
       "  'size': 'S',\n",
       "  'exp_date': '12/2021'},\n",
       " '1101': {'name': 'tomato sauce',\n",
       "  'price': 90,\n",
       "  'quantity': 197,\n",
       "  'size': 'M',\n",
       "  'exp_date': '12/2021'},\n",
       " '1102': {'name': 'cheese',\n",
       "  'price': 110,\n",
       "  'quantity': 100,\n",
       "  'size': 'M',\n",
       "  'exp_date': '1/2022'},\n",
       " '1103': {'name': 'marie',\n",
       "  'price': 10,\n",
       "  'quantity': 1000,\n",
       "  'size': 'S',\n",
       "  'exp_date': '12/2021'},\n",
       " '1104': {'name': 'parle-g',\n",
       "  'price': 10,\n",
       "  'quantity': 1000,\n",
       "  'size': 'S',\n",
       "  'exp_date': '2/2022'},\n",
       " '1105': {'name': 'kurkure',\n",
       "  'price': 20,\n",
       "  'quantity': 200,\n",
       "  'size': 'M',\n",
       "  'exp_date': '3/2022'},\n",
       " '1106': {'name': 'lays',\n",
       "  'price': 20,\n",
       "  'quantity': 200,\n",
       "  'size': 'M',\n",
       "  'exp_date': '3/2022'},\n",
       " '1107': {'name': 'toast',\n",
       "  'price': 50,\n",
       "  'quantity': 100,\n",
       "  'size': 'S',\n",
       "  'exp_date': '5/2022'},\n",
       " '1108': {'name': 'nestle coffee',\n",
       "  'price': 5,\n",
       "  'quantity': 96,\n",
       "  'size': 'S',\n",
       "  'exp_date': '5/2022'},\n",
       " '1109': {'name': 'pizza sauce',\n",
       "  'price': 60,\n",
       "  'quantity': 50,\n",
       "  'size': 'S',\n",
       "  'exp_date': '6/2022'},\n",
       " '1110': {'name': 'noodles',\n",
       "  'price': 70,\n",
       "  'quantity': 100,\n",
       "  'size': 'M',\n",
       "  'exp_date': '5/2022'},\n",
       " '1111': {'name': 'cream biscuit',\n",
       "  'price': 30,\n",
       "  'quantity': 200,\n",
       "  'size': 'S',\n",
       "  'exp_date': '8/2022'},\n",
       " '1112': {'name': 'cookies',\n",
       "  'price': 50,\n",
       "  'quantity': 47,\n",
       "  'size': 'M',\n",
       "  'exp_date': '8/2022'},\n",
       " '1113': {'name': 'soya sauce',\n",
       "  'price': 90,\n",
       "  'quantity': 45,\n",
       "  'size': 'M',\n",
       "  'exp_date': '8/2022'},\n",
       " '1114': {'name': 'schezwan sauce',\n",
       "  'price': 80,\n",
       "  'quantity': 60,\n",
       "  'size': 'M',\n",
       "  'exp_date': '9/2022'},\n",
       " '1115': {'name': 'cupcake',\n",
       "  'price': 30,\n",
       "  'quantity': 50,\n",
       "  'size': 'S',\n",
       "  'exp_date': '8/2022'},\n",
       " '1116': {'name': 'citric acid',\n",
       "  'price': 40,\n",
       "  'quantity': 30,\n",
       "  'size': 'S',\n",
       "  'exp_date': '8/2022'},\n",
       " '1117': {'name': 'yeast',\n",
       "  'price': 50,\n",
       "  'quantity': 16,\n",
       "  'size': 'S',\n",
       "  'exp_date': '8/2022'},\n",
       " '1118': {'name': 'cornflakes',\n",
       "  'price': 155,\n",
       "  'quantity': 100,\n",
       "  'size': 'M',\n",
       "  'exp_date': '11/2022'},\n",
       " '1119': {'name': 'pasta',\n",
       "  'price': 130,\n",
       "  'quantity': 7,\n",
       "  'size': 'M',\n",
       "  'exp_date': '8/2022'},\n",
       " '1120': {'name': 'namkeen',\n",
       "  'price': 170,\n",
       "  'quantity': 39,\n",
       "  'size': 'M',\n",
       "  'exp_date': '8/2022'},\n",
       " '1121': {'name': 'honey',\n",
       "  'price': 299,\n",
       "  'quantity': 40,\n",
       "  'size': 'S',\n",
       "  'exp_date': '8/2022'},\n",
       " '1122': {'name': 'cashew',\n",
       "  'price': 110,\n",
       "  'quantity': 50,\n",
       "  'size': 'S',\n",
       "  'exp_date': '8/2022'},\n",
       " '1123': {'name': 'chocolate syrup',\n",
       "  'price': 190,\n",
       "  'quantity': 18,\n",
       "  'size': 'M',\n",
       "  'exp_date': '9/2022'},\n",
       " '1124': {'name': 'dairy milk',\n",
       "  'price': 10,\n",
       "  'quantity': 400,\n",
       "  'size': 'S',\n",
       "  'exp_date': '8/2022'},\n",
       " '1125': {'name': '5 star',\n",
       "  'price': 20,\n",
       "  'quantity': 398,\n",
       "  'size': 'M',\n",
       "  'exp_date': '8/2022'},\n",
       " '1126': {'name': 'perk',\n",
       "  'price': 5,\n",
       "  'quantity': 500,\n",
       "  'size': 'S',\n",
       "  'exp_date': '8/2022'},\n",
       " '1127': {'name': 'munch',\n",
       "  'price': 5,\n",
       "  'quantity': 998,\n",
       "  'size': 'S',\n",
       "  'exp_date': '8/2022'},\n",
       " '1128': {'name': 'milky bar',\n",
       "  'price': 10,\n",
       "  'quantity': 50,\n",
       "  'size': 'S',\n",
       "  'exp_date': '9/2022'},\n",
       " '1129': {'name': 'kitkat',\n",
       "  'price': 30,\n",
       "  'quantity': 199,\n",
       "  'size': 'M',\n",
       "  'exp_date': '5/2022'}}"
      ]
     },
     "execution_count": 2,
     "metadata": {},
     "output_type": "execute_result"
    }
   ],
   "source": [
    "record"
   ]
  },
  {
   "cell_type": "markdown",
   "metadata": {},
   "source": [
    "# Add New Item into Inventory"
   ]
  },
  {
   "cell_type": "code",
   "execution_count": 3,
   "metadata": {},
   "outputs": [
    {
     "name": "stdout",
     "output_type": "stream",
     "text": [
      "Enter product id: 1130\n",
      "Enter product name: manchow soup\n",
      "Enter price: 25\n",
      "Enter quantity: 30\n",
      "Enter size(S/M/L): M\n",
      "Enter expiry date(month/year): 4/2022\n"
     ]
    }
   ],
   "source": [
    "id=str(input(\"Enter product id: \"))\n",
    "n = str(input(\"Enter product name: \"))\n",
    "p = int(input(\"Enter price: \"))\n",
    "q = int(input(\"Enter quantity: \"))\n",
    "s = str(input(\"Enter size(S/M/L): \"))\n",
    "ed = str(input(\"Enter expiry date(month/year): \"))\n",
    "\n",
    "record[id] = {\"name\":n, \"price\":p, \"quantity\":q, \"size\":s, \"exp_date\":ed}\n",
    "\n",
    "js = json.dumps(record)\n",
    "\n",
    "fd = open(\"record.json\",'w')\n",
    "fd.write(js)\n",
    "fd.close()"
   ]
  },
  {
   "cell_type": "markdown",
   "metadata": {},
   "source": [
    "# Delete Item from Inventory"
   ]
  },
  {
   "cell_type": "code",
   "execution_count": 4,
   "metadata": {},
   "outputs": [
    {
     "name": "stdout",
     "output_type": "stream",
     "text": [
      "Enter product id that you want to delete: 1130\n",
      "Deleted sucessfully!\n"
     ]
    }
   ],
   "source": [
    "i=str(input(\"Enter product id that you want to delete: \"))\n",
    "if (i in record.keys()):\n",
    "    del record[i]\n",
    "    print(\"Deleted sucessfully!\")\n",
    "else:\n",
    "    print(\"No item exists with this id\")\n",
    "    \n",
    "js = json.dumps(record)\n",
    "\n",
    "fd = open(\"record.json\",'w')\n",
    "fd.write(js)\n",
    "fd.close()"
   ]
  },
  {
   "cell_type": "code",
   "execution_count": null,
   "metadata": {},
   "outputs": [],
   "source": []
  }
 ],
 "metadata": {
  "kernelspec": {
   "display_name": "Python 3",
   "language": "python",
   "name": "python3"
  },
  "language_info": {
   "codemirror_mode": {
    "name": "ipython",
    "version": 3
   },
   "file_extension": ".py",
   "mimetype": "text/x-python",
   "name": "python",
   "nbconvert_exporter": "python",
   "pygments_lexer": "ipython3",
   "version": "3.8.3"
  }
 },
 "nbformat": 4,
 "nbformat_minor": 4
}
