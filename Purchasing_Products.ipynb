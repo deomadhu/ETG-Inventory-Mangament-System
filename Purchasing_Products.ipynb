{
 "cells": [
  {
   "cell_type": "markdown",
   "metadata": {},
   "source": [
    "# Read Inventory"
   ]
  },
  {
   "cell_type": "code",
   "execution_count": 1,
   "metadata": {},
   "outputs": [],
   "source": [
    "import json\n",
    "\n",
    "fd = open(\"record.json\",'r')\n",
    "txt = fd.read()\n",
    "\n",
    "fd.close()"
   ]
  },
  {
   "cell_type": "code",
   "execution_count": 2,
   "metadata": {},
   "outputs": [],
   "source": [
    "record = json.loads(txt)"
   ]
  },
  {
   "cell_type": "markdown",
   "metadata": {},
   "source": [
    "# Purchase"
   ]
  },
  {
   "cell_type": "code",
   "execution_count": 3,
   "metadata": {},
   "outputs": [
    {
     "name": "stdout",
     "output_type": "stream",
     "text": [
      "Hello!\n",
      "\n",
      "The list of prodcts we have: \n",
      "\n",
      "1100- maggi Rs 10\n",
      "1101- tomato sauce Rs 90\n",
      "1102- cheese Rs 110\n",
      "1103- marie Rs 10\n",
      "1104- parle-g Rs 10\n",
      "1105- kurkure Rs 20\n",
      "1106- lays Rs 20\n",
      "1107- toast Rs 50\n",
      "1108- nestle coffee Rs 5\n",
      "1109- pizza sauce Rs 60\n",
      "1110- noodles Rs 70\n",
      "1111- cream biscuit Rs 30\n",
      "1112- cookies Rs 50\n",
      "1113- soya sauce Rs 90\n",
      "1114- schezwan sauce Rs 80\n",
      "1115- cupcake Rs 30\n",
      "1116- citric acid Rs 40\n",
      "1117- yeast Rs 50\n",
      "1118- cornflakes Rs 155\n",
      "1119- pasta Rs 130\n",
      "1120- namkeen Rs 170\n",
      "1121- honey Rs 299\n",
      "1122- cashew Rs 110\n",
      "1123- chocolate syrup Rs 190\n",
      "1124- dairy milk Rs 10\n",
      "1125- 5 star Rs 20\n",
      "1126- perk Rs 5\n",
      "1127- munch Rs 5\n",
      "1128- milky bar Rs 10\n",
      "1129- kitkat Rs 30\n"
     ]
    }
   ],
   "source": [
    "print(\"Hello!\\n\")\n",
    "print(\"The list of prodcts we have: \\n\" )\n",
    "\n",
    "for key in record.keys():\n",
    "    print(key+\"- \"+record[key]['name'],\"Rs\",record[key]['price'])\n",
    "   "
   ]
  },
  {
   "cell_type": "code",
   "execution_count": 4,
   "metadata": {},
   "outputs": [
    {
     "name": "stdout",
     "output_type": "stream",
     "text": [
      "Enter id of product you want to buy: 1101\n",
      "Enter the quantity of product you want to buy: 2\n"
     ]
    }
   ],
   "source": [
    "id=str(input(\"Enter id of product you want to buy: \"))\n",
    "while(True):\n",
    "    temp=int(input(\"Enter the quantity of product you want to buy: \"))\n",
    "    if(temp<record[id]['quantity']):\n",
    "        record[id]['quantity']=record[id]['quantity']-temp\n",
    "        break;\n",
    "    else:\n",
    "        print(\"Sorry, we don't have the quantity you want. Please enter a smaller quantity as we have only \", record[id]['quantity'], \"in storage\")"
   ]
  },
  {
   "cell_type": "code",
   "execution_count": 5,
   "metadata": {},
   "outputs": [],
   "source": [
    "import time"
   ]
  },
  {
   "cell_type": "code",
   "execution_count": 6,
   "metadata": {},
   "outputs": [
    {
     "name": "stdout",
     "output_type": "stream",
     "text": [
      "***********************\n",
      "Sun Sep  5 20:15:27 2021\n",
      "\n",
      "\n",
      "Product ID:  1101\n",
      "Name:  tomato sauce\n",
      "Price:  90\n",
      "Quantity:  2\n",
      "\n",
      "------------------------\n",
      "\n",
      "Billing Amout:  180\n",
      "\n",
      "Thank You for visiting. Have a nice day!\n",
      "***********************\n"
     ]
    }
   ],
   "source": [
    "print(\"***********************\")\n",
    "print(time.ctime())\n",
    "\n",
    "print(\"\\n\")\n",
    "print(\"Product ID: \",id )\n",
    "print(\"Name: \", record[id]['name'])\n",
    "print(\"Price: \",record[id]['price'])\n",
    "print(\"Quantity: \",temp)\n",
    "print(\"\\n------------------------\\n\")\n",
    "print(\"Billing Amout: \", record[id]['price']*temp)\n",
    "print(\"\\nThank You for visiting. Have a nice day!\")\n",
    "print(\"***********************\")"
   ]
  },
  {
   "cell_type": "markdown",
   "metadata": {},
   "source": [
    "# Update Inventory after purchase"
   ]
  },
  {
   "cell_type": "code",
   "execution_count": 7,
   "metadata": {},
   "outputs": [],
   "source": [
    "js = json.dumps(record)\n",
    "fd = open(\"record.json\",'w')\n",
    "\n",
    "fd.write(js)\n",
    "fd.close()"
   ]
  },
  {
   "cell_type": "markdown",
   "metadata": {},
   "source": [
    "# Sales JSON"
   ]
  },
  {
   "cell_type": "code",
   "execution_count": 8,
   "metadata": {},
   "outputs": [],
   "source": [
    "fd = open(\"sales.json\",'r')\n",
    "r = fd.read()\n",
    "fd.close()\n",
    "\n",
    "sale = json.loads(r)"
   ]
  },
  {
   "cell_type": "code",
   "execution_count": 9,
   "metadata": {},
   "outputs": [],
   "source": [
    "sale[len(sale)+1]={'timeofpurchase':time.ctime() ,'prod':id , 'qn':temp , 'amount':record[id]['price']*temp}\n",
    "sales=json.dumps(sale)"
   ]
  },
  {
   "cell_type": "code",
   "execution_count": 10,
   "metadata": {},
   "outputs": [],
   "source": [
    "fd = open(\"sales.json\",'w')\n",
    "\n",
    "fd.write(sales)\n",
    "fd.close()"
   ]
  },
  {
   "cell_type": "code",
   "execution_count": null,
   "metadata": {},
   "outputs": [],
   "source": []
  }
 ],
 "metadata": {
  "kernelspec": {
   "display_name": "Python 3",
   "language": "python",
   "name": "python3"
  },
  "language_info": {
   "codemirror_mode": {
    "name": "ipython",
    "version": 3
   },
   "file_extension": ".py",
   "mimetype": "text/x-python",
   "name": "python",
   "nbconvert_exporter": "python",
   "pygments_lexer": "ipython3",
   "version": "3.8.3"
  }
 },
 "nbformat": 4,
 "nbformat_minor": 4
}
